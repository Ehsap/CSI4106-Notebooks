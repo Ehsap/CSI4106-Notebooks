{
 "cells": [
  {
   "cell_type": "markdown",
   "metadata": {},
   "source": [
    "# Simulated annealing for the TSP"
   ]
  },
  {
   "cell_type": "markdown",
   "metadata": {},
   "source": [
    "CSI4106 Artificial Intelligence  \n",
    "Fall 2018  \n",
    "Caroline Barrière"
   ]
  },
  {
   "cell_type": "markdown",
   "metadata": {},
   "source": [
    "This homework will allow you to look deeper into one of the randomized searches presented in class, that of *Simulated Annealing*. It is a good example of a *random modification* algorithm, in which we start with a greedy solution, and then make changes and accept the modified solutions with different probabilities given their level of fitness to a cost function.\n",
    "\n",
    "The application domain for experimenting with *simulated annealing* is the traveling salesman problem (TSP), which is a classical problem of scheduling, with optimization on the cost of travel."
   ]
  },
  {
   "cell_type": "markdown",
   "metadata": {},
   "source": [
    "***HOMEWORK***:  \n",
    "Go through the notebook by running each cell, one at a time.  \n",
    "Look for **(TO DO)** for the tasks that you need to perform.  Once you're done, Sign the notebook (see the added step at the end), and submit it.  \n",
    "***"
   ]
  },
  {
   "cell_type": "markdown",
   "metadata": {},
   "source": [
    "**1. Let's start with a small set of cities.**"
   ]
  },
  {
   "cell_type": "code",
   "execution_count": null,
   "metadata": {},
   "outputs": [],
   "source": [
    "# let's define 5 cities with a label and a (x,y) coordinate\n",
    "cities = {'A': (0,0), 'B': (1,1), 'C': (1,0), 'D': (-1,1), 'E': (-1,-1)}"
   ]
  },
  {
   "cell_type": "markdown",
   "metadata": {},
   "source": [
    "Let's plot the nodes using the *showNodes* method below.  \n",
    "The packages matplotlib and networkx must be installed first.  \n",
    "To do so, open a command prompt and type **pip install matplotlib**, and also **pip install networkx**.  After the packages are installed, you'll have to restart the kernel.  Then, you will be able to run the following cell.  "
   ]
  },
  {
   "cell_type": "code",
   "execution_count": null,
   "metadata": {},
   "outputs": [],
   "source": [
    "import matplotlib.pyplot as plt\n",
    "import networkx as nx\n",
    "\n",
    "# small method to show nodes\n",
    "# provide defaults for figure size (size), as well as x and y axis\n",
    "def showNodes(nodeDict, size= (6.5, 4), xLim=[-2,2], yLim=[-2,2]):\n",
    "    fig = plt.figure(figsize=size)\n",
    "    axg = fig.add_subplot(111)\n",
    "    axg.set_xlim(xLim)\n",
    "    axg.set_ylim(yLim)\n",
    "\n",
    "    G=nx.Graph()\n",
    "    for k in nodeDict.keys():\n",
    "        G.add_node(k, coor=nodeDict.get(k))\n",
    "    \n",
    "    pos=nx.get_node_attributes(G,'coor')\n",
    "    nx.draw(G, pos, with_labels = True)\n",
    "    plt.axis('on')\n",
    "    plt.show()"
   ]
  },
  {
   "cell_type": "code",
   "execution_count": null,
   "metadata": {},
   "outputs": [],
   "source": [
    "# show the cities on a map\n",
    "showNodes(cities)"
   ]
  },
  {
   "cell_type": "markdown",
   "metadata": {},
   "source": [
    "#### 2. Let's find the distances between all cities.\n",
    "First, we define a method to calculate the distance between two specific cities, and then a method to find the distances between all pairs of nodes."
   ]
  },
  {
   "cell_type": "code",
   "execution_count": null,
   "metadata": {},
   "outputs": [],
   "source": [
    "import math\n",
    "\n",
    "# returns the euclidian distance between two nodes\n",
    "def dist(node1, node2):\n",
    "    return round(math.sqrt(math.pow(node1[0] - node2[0], 2) + math.pow(node1[1] - node2[1], 2)), 3)"
   ]
  },
  {
   "cell_type": "code",
   "execution_count": null,
   "metadata": {},
   "outputs": [],
   "source": [
    "# Small test to see the distance\n",
    "dist(cities.get('A'), cities.get('B'))"
   ]
  },
  {
   "cell_type": "code",
   "execution_count": null,
   "metadata": {},
   "outputs": [],
   "source": [
    "# building a dictionary of all pairs or ditances\n",
    "def distDict(nodes):\n",
    "    distance = {}\n",
    "    # go through all pairs of nodes\n",
    "    for k in nodes.keys():\n",
    "        for m in nodes.keys():\n",
    "            distance[k,m] = dist(nodes.get(k), nodes.get(m))\n",
    "    return distance"
   ]
  },
  {
   "cell_type": "code",
   "execution_count": null,
   "metadata": {},
   "outputs": [],
   "source": [
    "# showing the distances between the cities\n",
    "distances = distDict(cities)\n",
    "print(distances)"
   ]
  },
  {
   "cell_type": "markdown",
   "metadata": {},
   "source": [
    "Let's also add a method to find the closest city to a city.  That will be helpful later."
   ]
  },
  {
   "cell_type": "code",
   "execution_count": null,
   "metadata": {},
   "outputs": [],
   "source": [
    "# find the min distance from node1 to all other nodes.\n",
    "# it receives the node1 label, the labels of other nodes to test,\n",
    "# and the precalculated distances between all nodes\n",
    "def closestNode(node1_label, otherNodes_Labels, distanceDict):\n",
    "    # tricky syntax... it creates tuples where the distance is the first element of the tuple\n",
    "    # and the position in the array is the second element of the tuple\n",
    "    minDist = min( (distanceDict[node1_label,k], k) for k in otherNodes_Labels)\n",
    "    # get the second element of the tuple which is the index found\n",
    "    foundNode = minDist[1]\n",
    "    return foundNode"
   ]
  },
  {
   "cell_type": "code",
   "execution_count": null,
   "metadata": {},
   "outputs": [],
   "source": [
    "# Testing the closest node\n",
    "closestNode('B', ['C', 'D'], distances)"
   ]
  },
  {
   "cell_type": "markdown",
   "metadata": {},
   "source": [
    "#### 3. Greedy solution first \n",
    "Before we can apply *simulated annealing*, we must first find a suboptimal solution which we will refine."
   ]
  },
  {
   "cell_type": "code",
   "execution_count": null,
   "metadata": {},
   "outputs": [],
   "source": [
    "# greedy solution\n",
    "import random\n",
    "\n",
    "def greedy_solution(nodes):\n",
    "    # distance matrix\n",
    "    allDist = distDict(nodes)\n",
    "    # pick a first node at random among the set of keys (node names)\n",
    "    cur_node = random.choice(list(nodes.keys()))\n",
    "    # add that node to solution\n",
    "    solution = [cur_node]\n",
    "    # build a free list of nodes (not yet used) containing all nodes except the one just chosen \n",
    "    free_list = list(nodes.keys())\n",
    "    free_list.remove(cur_node)\n",
    "    \n",
    "    # while there are still nodes to be attached\n",
    "    while free_list:\n",
    "        # find the closestNode\n",
    "        found_node = closestNode(cur_node, free_list, allDist)\n",
    "        cur_node = found_node\n",
    "        free_list.remove(cur_node)\n",
    "        solution.append(cur_node)\n",
    "\n",
    "    return solution"
   ]
  },
  {
   "cell_type": "code",
   "execution_count": null,
   "metadata": {},
   "outputs": [],
   "source": [
    "# Test obtaining a greedy solution\n",
    "gs = greedy_solution(cities)\n",
    "print(gs)"
   ]
  },
  {
   "cell_type": "markdown",
   "metadata": {},
   "source": [
    "#### 4. Showing a path.  \n",
    "We slightly modify to showNodes method from before, to become showPath, wich is now a directed graph."
   ]
  },
  {
   "cell_type": "code",
   "execution_count": null,
   "metadata": {},
   "outputs": [],
   "source": [
    "# small method to show a path\n",
    "# it receives an ordered list of nodes e.g. ['B','C','A', 'D', 'E']\n",
    "# and a dictionary of all the nodes and their positions\n",
    "def showPath(path, nodeDict, size= (6.5, 4), xLim=[-2,2], yLim=[-2,2]):\n",
    "    fig = plt.figure(figsize=size)\n",
    "    axg = fig.add_subplot(111)\n",
    "    axg.set_xlim(xLim)\n",
    "    axg.set_ylim(yLim)\n",
    "\n",
    "    G=nx.DiGraph()\n",
    "    for k in path:\n",
    "        G.add_node(k, pos=nodeDict.get(k))\n",
    "        \n",
    "    for i in range(len(path) - 1):\n",
    "        x = path[i]\n",
    "        y = path[i + 1]\n",
    "        G.add_edge(x,y)\n",
    "        \n",
    "    pos=nx.get_node_attributes(G,'pos')\n",
    "    nx.draw(G, pos, with_labels = True, edge_color = 'b', arrows=True)   \n",
    "    # nx.draw(G, pos, with_labels = True)\n",
    "    plt.axis('on')\n",
    "    plt.show()"
   ]
  },
  {
   "cell_type": "markdown",
   "metadata": {},
   "source": [
    "A test to visualize two greedy solutions."
   ]
  },
  {
   "cell_type": "code",
   "execution_count": null,
   "metadata": {},
   "outputs": [],
   "source": [
    "# Testing to output the path chosen by the greedy solution\n",
    "gs1 = greedy_solution(cities)\n",
    "print(gs1)\n",
    "showPath(gs1, cities)\n",
    "gs2 = greedy_solution(cities)\n",
    "print(gs2)\n",
    "showPath(gs2, cities)"
   ]
  },
  {
   "cell_type": "markdown",
   "metadata": {},
   "source": [
    "**(Q1 - TO DO)**  Run the test above a few times until you have different solutions.  How many times did you have to run your code above to actually obtain two *different* solutions?  And what are the solutions generated?"
   ]
  },
  {
   "cell_type": "markdown",
   "metadata": {},
   "source": [
    "Nb of runs :  \n",
    "Solutions generated : "
   ]
  },
  {
   "cell_type": "markdown",
   "metadata": {},
   "source": [
    "**(Q2 - TO DO)** Complete the method to find the total length of the path found.  "
   ]
  },
  {
   "cell_type": "code",
   "execution_count": null,
   "metadata": {},
   "outputs": [],
   "source": [
    "# (TO DO) totalDistance, which receives a path (list of node labels) and the dictionary of distances\n",
    "def totalDist(path, distanceDict):\n",
    "    total = 0\n",
    "    for i in range(len(path) - 1):\n",
    "        x = path[i]\n",
    "        y = ...\n",
    "        total += ...\n",
    "    return round(total,3)"
   ]
  },
  {
   "cell_type": "code",
   "execution_count": null,
   "metadata": {},
   "outputs": [],
   "source": [
    "# Test the total distance method\n",
    "print(totalDist(gs1, distances))\n",
    "print(totalDist(gs2, distances))"
   ]
  },
  {
   "cell_type": "markdown",
   "metadata": {},
   "source": [
    "**(Q3 -- TO DO)** Add two more cities (wherever you want within the predefined -2 to +2 axis).  Rerun the full sequence of tasks performed: (1) defining the graph (2) showing the points (3) building the distance dictionary, (4) finding the two possible greedy solutions, (5) showing the different paths found."
   ]
  },
  {
   "cell_type": "code",
   "execution_count": null,
   "metadata": {},
   "outputs": [],
   "source": [
    "# (1) defining a larger set of cities\n",
    "moreCities = {'A': (0,0), 'B': (1,1), .....\n",
    "# (2)\n",
    "...\n",
    "# (3)\n",
    "...\n",
    "# (4)\n",
    "...\n",
    "# (5)\n",
    "..."
   ]
  },
  {
   "cell_type": "markdown",
   "metadata": {},
   "source": [
    "**5. Defining the process of simulated annealing**  \n",
    "The class below defines the simulated annealing process.  This class is an adaptation of the class anneal.py found in the python code provided in this github https://github.com/chncyhn/simulated-annealing-tsp. You are not asked to changed this class, just go through it and try to understand it so as to get a better understanding of the *simulated annealing* algorithm."
   ]
  },
  {
   "cell_type": "code",
   "execution_count": null,
   "metadata": {},
   "outputs": [],
   "source": [
    "# class to perform a simulated annealing\n",
    "# must start with a set of nodes, all other parameters have defaults\n",
    "class SimAnneal(object):\n",
    "    def __init__(self, nodes, T=-1, alpha=-1, stopping_T=-1, stopping_iter=-1):\n",
    "        # set of nodes\n",
    "        self.nodes = nodes\n",
    "        # number of nodes\n",
    "        self.N = len(nodes)\n",
    "        # set the temperature T to sqrt(N) if not specified\n",
    "        self.T = math.sqrt(self.N) if T == -1 else T\n",
    "        # set alpha (rate at which the temperature is decreased)\n",
    "        self.alpha = 0.995 if alpha == -1 else alpha\n",
    "        # set stopping temprature\n",
    "        self.stopping_temperature = 0.00000001 if stopping_T == -1 else stopping_T\n",
    "        # set stopping iteration\n",
    "        self.stopping_iter = 100000 if stopping_iter == -1 else stopping_iter\n",
    "        # start at iteration 1\n",
    "        self.iteration = 1\n",
    "\n",
    "        # calculate the distances\n",
    "        self.allDist = distDict(nodes)\n",
    "        \n",
    "        # start with greedy solution\n",
    "        self.cur_solution = greedy_solution(nodes)\n",
    "        \n",
    "        # so far, the best solution is the one we have\n",
    "        self.best_solution = list(self.cur_solution)\n",
    "\n",
    "        # calculate fitness of the current solution\n",
    "        self.cur_fitness = self.fitness(self.cur_solution)\n",
    "        # initial fitness for initial solution\n",
    "        self.initial_fitness = self.cur_fitness\n",
    "        # best fitness so far\n",
    "        self.best_fitness = self.cur_fitness\n",
    "        # build the fitness list as we explore solutions\n",
    "        self.fitness_list = [self.cur_fitness]\n",
    "\n",
    "\n",
    "    def fitness(self, sol):\n",
    "        \"\"\" Objective value of a solution \"\"\"\n",
    "        return totalDist(sol, self.allDist)\n",
    "\n",
    "    # acceptance propability\n",
    "    def p_accept(self, candidate_fitness):\n",
    "        \"\"\"\n",
    "        Probability of accepting if the candidate is worse than current\n",
    "        Depends on the current temperature and difference between candidate and current\n",
    "        \"\"\"\n",
    "        return math.exp(-abs(candidate_fitness - self.cur_fitness) / self.T)\n",
    "\n",
    "    def accept(self, candidate):\n",
    "        \"\"\"\n",
    "        Accept with probability 1 if candidate is better than current\n",
    "        Accept with probabilty p_accept(..) if candidate is worse\n",
    "        \"\"\"\n",
    "        candidate_fitness = self.fitness(candidate)\n",
    "        # test if fitness is smaller then the current one\n",
    "        if candidate_fitness < self.cur_fitness:\n",
    "            self.cur_fitness = candidate_fitness\n",
    "            self.cur_solution = candidate\n",
    "            # test if fitness is better than best so far, keep it as best if so\n",
    "            if candidate_fitness < self.best_fitness:\n",
    "                self.best_fitness = candidate_fitness\n",
    "                self.best_solution = candidate\n",
    "\n",
    "        # if solution is worst than the current one, there is still a possibility to pursue it\n",
    "        else:\n",
    "            if random.random() < self.p_accept(candidate_fitness):\n",
    "                self.cur_fitness = candidate_fitness\n",
    "                self.cur_solution = candidate\n",
    "\n",
    "    def anneal(self):\n",
    "        \"\"\"\n",
    "        Execute simulated annealing algorithm\n",
    "        \"\"\"\n",
    "        # go through the temperature schedule\n",
    "        print(self.T)\n",
    "        print(self.stopping_temperature)\n",
    "        while (self.T >= self.stopping_temperature) and (self.iteration < self.stopping_iter):\n",
    "            # explore current solution\n",
    "            candidate = list(self.cur_solution)\n",
    "            # modify the solution to switch two cities\n",
    "            # first chosen city between [2,N-1] - not changing the first city\n",
    "            l = random.randint(2, self.N - 1)\n",
    "            # second city between [0,N-1] Not sure why ??\n",
    "            i = random.randint(0, self.N - l)\n",
    "            # the chosen nodes are switch\n",
    "            candidate[i:(i + l)] = reversed(candidate[i:(i + l)])\n",
    "            # perform acceptance test \n",
    "            self.accept(candidate)\n",
    "            # multiply the temperature by alpha (this will reduce it)\n",
    "            self.T *= self.alpha\n",
    "            self.iteration += 1\n",
    "            \n",
    "            # add current fitness to list (to be able to display)\n",
    "            self.fitness_list.append(self.cur_fitness)\n",
    "\n",
    "        print('Best fitness obtained: ', self.best_fitness)\n",
    "        print('Improvement over greedy heuristic: ',\n",
    "              round((self.initial_fitness - self.best_fitness) / (self.initial_fitness), 4))\n",
    "\n",
    "        return self.best_solution\n",
    "    \n",
    "    def plot_learning(self):\n",
    "        \"\"\"\n",
    "        Plot the fitness through iterations\n",
    "        \"\"\"\n",
    "        plt.plot([i for i in range(len(self.fitness_list))], self.fitness_list)\n",
    "        plt.ylabel('Fitness')\n",
    "        plt.xlabel('Iteration')\n",
    "        plt.show()\n"
   ]
  },
  {
   "cell_type": "markdown",
   "metadata": {},
   "source": [
    "#### 6. Refining a greedy solution through simulated annealing."
   ]
  },
  {
   "cell_type": "markdown",
   "metadata": {},
   "source": [
    "**(Q4 - TO DO)** Put comments in the code below explaining what it does.  Also run it a few times.  It will show you how there can be improvement (or not) from the greedy solution to the annealed one."
   ]
  },
  {
   "cell_type": "code",
   "execution_count": null,
   "metadata": {},
   "outputs": [],
   "source": [
    "firstSol = greedy_solution(cities)\n",
    "distances = distDict(cities)\n",
    "print('Solution {} takes a total of {}'.format(firstSol,totalDist(firstSol, distances)))\n",
    "showPath(firstSol, cities)\n",
    "sa = SimAnneal(cities)\n",
    "betterSol = sa.anneal()\n",
    "showPath(betterSol, cities)"
   ]
  },
  {
   "cell_type": "markdown",
   "metadata": {},
   "source": [
    "**7. Moving toward a larger example**  \n",
    "There are a set of coordinates defined in the file *coord.txt* (available in the Jupyter Notebooks module in Brightspace). This data file is also from the github https://github.com/chncyhn/simulated-annealing-tsp.  It contains a larger example with 45 cities, to test.  Here is the beginning of the file:\n",
    "\n",
    "1 0 0  \n",
    "2 3 5  \n",
    "3 2.5 9  \n",
    "4 48 16  \n",
    "5 48 17  \n",
    "6 69 16  \n",
    "...\n",
    "\n",
    "Make sure to put the file *coord.txt* in the same repertory as your notebook or modify the path below when opening the file to read.  We will assume the first number is the label, and the other two numbers are the coordinates."
   ]
  },
  {
   "cell_type": "code",
   "execution_count": null,
   "metadata": {},
   "outputs": [],
   "source": [
    "# reading the coordinates\n",
    "manyCities = {}\n",
    "with open('coord.txt','r') as f:\n",
    "    i = 0\n",
    "    for line in f.readlines():\n",
    "        line = [float(x.replace('\\n','')) for x in line.split(' ')]\n",
    "        label = str(int(line[0]))\n",
    "        manyCities[label] = (line[1], line[2])\n",
    "        i += 1"
   ]
  },
  {
   "cell_type": "markdown",
   "metadata": {},
   "source": [
    "Show the nodes from that larger set of cities."
   ]
  },
  {
   "cell_type": "code",
   "execution_count": null,
   "metadata": {},
   "outputs": [],
   "source": [
    "showNodes(manyCities, size=(15,15), xLim=[-75,100], yLim=[-110,60])"
   ]
  },
  {
   "cell_type": "markdown",
   "metadata": {},
   "source": [
    "Testing the annealing process with the larger example. The steps are the same as the ones you had to comment in Question 4. Look at the additional step *plot_learning*, it shows the value of the fitness function as the annealing process occurs.  Run it multiple times, it is a probabilistic approach, so the result might be slightly different each time."
   ]
  },
  {
   "cell_type": "code",
   "execution_count": null,
   "metadata": {},
   "outputs": [],
   "source": [
    "firstSol = greedy_solution(manyCities)\n",
    "distances = distDict(manyCities)\n",
    "print('Solution {} takes a total of {}'.format(firstSol,totalDist(firstSol, distances)))\n",
    "showPath(firstSol, manyCities, size=(15,15), xLim=[-75,100], yLim=[-110,60])\n",
    "sa = SimAnneal(manyCities)\n",
    "betterSol = sa.anneal()\n",
    "sa.plot_learning()\n",
    "showPath(betterSol, manyCities, size=(15,15), xLim=[-75,100], yLim=[-110,60])"
   ]
  },
  {
   "cell_type": "markdown",
   "metadata": {},
   "source": [
    "**(Q5 - TO DO)** Try the annealing again, but provide a different temperature schedule, by changing alpha, and the starting and stopping temperatures.  These are all parameters to the class which can be set.  Try also changing the number of iterations to do.  Explore 3-4 variations below."
   ]
  },
  {
   "cell_type": "code",
   "execution_count": null,
   "metadata": {},
   "outputs": [],
   "source": [
    "# (TO DO) Look at this line from the SimAnneal class above\n",
    "# def __init__(self, nodes, T=-1, alpha=-1, stopping_T=-1, stopping_iter=-1):\n",
    "# This means that parameters T, alpha, stopping_T and stopping_iter all have defaults, but could be changed\n",
    "# For example, calling SimAnneal(manyCities, stopping_iter=100) means that I set a maximum of 100 iterations.\n",
    "# Try a few variations and look at the differences\n",
    "\n",
    "# Test 1 ...\n",
    "sa = SimAnneal(manyCities, ...)\n",
    "betterSol = sa.anneal()\n",
    "sa.plot_learning()\n",
    "showPath(betterSol, manyCities, size=(15,15), xLim=[-75,100], yLim=[-110,60])\n",
    "\n",
    "# Test 2 ...\n",
    "sa = SimAnneal(manyCities, ...)\n",
    "betterSol = sa.anneal()\n",
    "sa.plot_learning()\n",
    "showPath(betterSol, manyCities, size=(15,15), xLim=[-75,100], yLim=[-110,60])\n",
    "\n",
    "# Test 3 ..."
   ]
  },
  {
   "cell_type": "markdown",
   "metadata": {},
   "source": [
    "**(Optional - TO DO)**  If you are interested in performance analysis, you could apply a full-solution space exploration algorithm (such as dynamic programming) to the manyCities graph to find the optimal solution.  Once you have the optimal solution, then you would be able to run *simulated annealing* a 1000 times and measure how many times the simulated annealing reaches that optimal solution (or a nearby solution).  You could compare that to running 1000 times the greedy search and measuring how many times the greedy search reaches the optimal solution.  Which is better???"
   ]
  },
  {
   "cell_type": "markdown",
   "metadata": {},
   "source": [
    "#### Signature\n",
    "\n",
    "I, -------YOUR NAME--------------, declare that the answers provided in this notebook are my own."
   ]
  }
 ],
 "metadata": {
  "kernelspec": {
   "display_name": "Python 3",
   "language": "python",
   "name": "python3"
  },
  "language_info": {
   "codemirror_mode": {
    "name": "ipython",
    "version": 3
   },
   "file_extension": ".py",
   "mimetype": "text/x-python",
   "name": "python",
   "nbconvert_exporter": "python",
   "pygments_lexer": "ipython3",
   "version": "3.7.0"
  }
 },
 "nbformat": 4,
 "nbformat_minor": 2
}
